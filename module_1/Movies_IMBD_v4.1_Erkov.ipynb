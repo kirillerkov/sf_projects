{
 "cells": [
  {
   "cell_type": "code",
   "execution_count": 1,
   "metadata": {
    "_cell_guid": "b1076dfc-b9ad-4769-8c92-a6c4dae69d19",
    "_uuid": "8f2839f25d086af736a60e9eeb907d3b93b6e0e5",
    "colab": {},
    "colab_type": "code",
    "id": "U2D2gTdJVp90"
   },
   "outputs": [],
   "source": [
    "# import numpy as np\n",
    "import pandas as pd\n",
    "# import seaborn as sns\n",
    "# import matplotlib.pyplot as plt\n",
    "# import collections\n",
    "from datetime import datetime\n",
    "from collections import Counter"
   ]
  },
  {
   "cell_type": "code",
   "execution_count": 2,
   "metadata": {
    "_cell_guid": "79c7e3d0-c299-4dcb-8224-4455121ee9b0",
    "_uuid": "d629ff2d2480ee46fbb7e2d37f6b5fab8052498a",
    "colab": {},
    "colab_type": "code",
    "id": "oyGfxL3eVp9-"
   },
   "outputs": [
    {
     "data": {
      "text/plain": "        imdb_id    budget    revenue                        original_title  \\\n631   tt0970416  80000000  233093859         The Day the Earth Stood Still   \n37    tt2381111  11000000   62076141                              Brooklyn   \n1846  tt0204946  28000000   90449929                           Bring It On   \n1886  tt0131704  76000000   35134820  The Adventures of Rocky & Bullwinkle   \n1717  tt0426931  25000000   66122026                           August Rush   \n\n                                                   cast          director  \\\n631   Keanu Reeves|Jennifer Connelly|Kathy Bates|Jad...  Scott Derrickson   \n37    Saoirse Ronan|Domhnall Gleeson|Emory Cohen|Emi...      John Crowley   \n1846  Kirsten Dunst|Jesse Bradford|Huntley Ritter|El...       Peyton Reed   \n1886  Rene Russo|Jason Alexander|Piper Perabo|Randy ...       Des McAnuff   \n1717  Freddie Highmore|Keri Russell|Jonathan Rhys Me...  Kirsten Sheridan   \n\n                                                tagline  \\\n631           12.12.08 is the Day the Earth Stood Still   \n37                  Two countries, two loves, one heart   \n1846                            May the best moves win.   \n1886            This summer it's not the same old bull.   \n1717  An incredible journey moving at the speed of s...   \n\n                                               overview  runtime  \\\n631   A representative of an alien race that went th...      103   \n37    In 1950s Ireland and New York, young Ellis Lac...      111   \n1846  The Toro cheerleading squad from Rancho Carne ...       98   \n1886  Rocky and Bullwinkle have been living off the ...       88   \n1717  A drama with fairy tale elements, where an orp...      114   \n\n                                        genres  \\\n631             Drama|Science Fiction|Thriller   \n37                               Drama|Romance   \n1846                                    Comedy   \n1886  Adventure|Animation|Action|Comedy|Family   \n1717                                     Drama   \n\n                                   production_companies release_date  \\\n631   Twentieth Century Fox Film Corporation|Dune En...   12/10/2008   \n37    Wildgaze Films|Irish Film Board|Item 7|Paralle...    11/4/2015   \n1846                              Beacon Communications    8/25/2000   \n1886  Universal Pictures|Capella International|KC Me...    6/30/2000   \n1717  Warner Bros.|CJ Entertainment|Southpaw Enterta...   11/21/2007   \n\n      vote_average  release_year  \n631            5.1          2008  \n37             7.3          2015  \n1846           5.7          2000  \n1886           4.0          2000  \n1717           6.9          2007  ",
      "text/html": "<div>\n<style scoped>\n    .dataframe tbody tr th:only-of-type {\n        vertical-align: middle;\n    }\n\n    .dataframe tbody tr th {\n        vertical-align: top;\n    }\n\n    .dataframe thead th {\n        text-align: right;\n    }\n</style>\n<table border=\"1\" class=\"dataframe\">\n  <thead>\n    <tr style=\"text-align: right;\">\n      <th></th>\n      <th>imdb_id</th>\n      <th>budget</th>\n      <th>revenue</th>\n      <th>original_title</th>\n      <th>cast</th>\n      <th>director</th>\n      <th>tagline</th>\n      <th>overview</th>\n      <th>runtime</th>\n      <th>genres</th>\n      <th>production_companies</th>\n      <th>release_date</th>\n      <th>vote_average</th>\n      <th>release_year</th>\n    </tr>\n  </thead>\n  <tbody>\n    <tr>\n      <th>631</th>\n      <td>tt0970416</td>\n      <td>80000000</td>\n      <td>233093859</td>\n      <td>The Day the Earth Stood Still</td>\n      <td>Keanu Reeves|Jennifer Connelly|Kathy Bates|Jad...</td>\n      <td>Scott Derrickson</td>\n      <td>12.12.08 is the Day the Earth Stood Still</td>\n      <td>A representative of an alien race that went th...</td>\n      <td>103</td>\n      <td>Drama|Science Fiction|Thriller</td>\n      <td>Twentieth Century Fox Film Corporation|Dune En...</td>\n      <td>12/10/2008</td>\n      <td>5.1</td>\n      <td>2008</td>\n    </tr>\n    <tr>\n      <th>37</th>\n      <td>tt2381111</td>\n      <td>11000000</td>\n      <td>62076141</td>\n      <td>Brooklyn</td>\n      <td>Saoirse Ronan|Domhnall Gleeson|Emory Cohen|Emi...</td>\n      <td>John Crowley</td>\n      <td>Two countries, two loves, one heart</td>\n      <td>In 1950s Ireland and New York, young Ellis Lac...</td>\n      <td>111</td>\n      <td>Drama|Romance</td>\n      <td>Wildgaze Films|Irish Film Board|Item 7|Paralle...</td>\n      <td>11/4/2015</td>\n      <td>7.3</td>\n      <td>2015</td>\n    </tr>\n    <tr>\n      <th>1846</th>\n      <td>tt0204946</td>\n      <td>28000000</td>\n      <td>90449929</td>\n      <td>Bring It On</td>\n      <td>Kirsten Dunst|Jesse Bradford|Huntley Ritter|El...</td>\n      <td>Peyton Reed</td>\n      <td>May the best moves win.</td>\n      <td>The Toro cheerleading squad from Rancho Carne ...</td>\n      <td>98</td>\n      <td>Comedy</td>\n      <td>Beacon Communications</td>\n      <td>8/25/2000</td>\n      <td>5.7</td>\n      <td>2000</td>\n    </tr>\n    <tr>\n      <th>1886</th>\n      <td>tt0131704</td>\n      <td>76000000</td>\n      <td>35134820</td>\n      <td>The Adventures of Rocky &amp; Bullwinkle</td>\n      <td>Rene Russo|Jason Alexander|Piper Perabo|Randy ...</td>\n      <td>Des McAnuff</td>\n      <td>This summer it's not the same old bull.</td>\n      <td>Rocky and Bullwinkle have been living off the ...</td>\n      <td>88</td>\n      <td>Adventure|Animation|Action|Comedy|Family</td>\n      <td>Universal Pictures|Capella International|KC Me...</td>\n      <td>6/30/2000</td>\n      <td>4.0</td>\n      <td>2000</td>\n    </tr>\n    <tr>\n      <th>1717</th>\n      <td>tt0426931</td>\n      <td>25000000</td>\n      <td>66122026</td>\n      <td>August Rush</td>\n      <td>Freddie Highmore|Keri Russell|Jonathan Rhys Me...</td>\n      <td>Kirsten Sheridan</td>\n      <td>An incredible journey moving at the speed of s...</td>\n      <td>A drama with fairy tale elements, where an orp...</td>\n      <td>114</td>\n      <td>Drama</td>\n      <td>Warner Bros.|CJ Entertainment|Southpaw Enterta...</td>\n      <td>11/21/2007</td>\n      <td>6.9</td>\n      <td>2007</td>\n    </tr>\n  </tbody>\n</table>\n</div>"
     },
     "execution_count": 2,
     "metadata": {},
     "output_type": "execute_result"
    }
   ],
   "source": [
    "data = pd.read_csv('movie_bd_v5.csv')\n",
    "data.sample(5)"
   ]
  },
  {
   "cell_type": "markdown",
   "metadata": {
    "colab_type": "text",
    "id": "DTIt7ezGVp-G"
   },
   "source": [
    "# Предобработка"
   ]
  },
  {
   "cell_type": "code",
   "execution_count": 3,
   "metadata": {
    "colab": {},
    "colab_type": "code",
    "id": "jNb40DwKVp-H"
   },
   "outputs": [],
   "source": [
    "answers = {}    # создадим словарь для ответов\n",
    "    \n",
    "data['release_month'] = data.apply(lambda row: datetime.strptime(row['release_date'], '%m/%d/%Y').month, axis=1)\n",
    "data['profit'] = data.apply(lambda row: row['revenue'] - row['budget'], axis=1)\n",
    "\n",
    "genres_list = list(pd.Series(data.genres.str.split('|').sum()).value_counts().index)    # список жанров\n",
    "actors_list = list(pd.Series(data.cast.str.split('|').sum()).value_counts().index)    # список актеров\n",
    "directors_list = list(pd.Series(data.director.str.split('|').sum()).value_counts().index)    # список режисерров\n",
    "prod_comp_list = list(pd.Series(data.production_companies.str.split('|').sum()).value_counts().index)    # список студий\n",
    "\n",
    "'''DataFrame с актерами, которые играли вместе в одном фильме'''\n",
    "cast_match_df = pd.DataFrame(0, columns=actors_list, index=actors_list)\n",
    "for actor in actors_list:\n",
    "    for casts in data[data.cast.str.contains(actor)].cast:\n",
    "        for cast in casts.split('|'):\n",
    "            if cast != actor:\n",
    "                cast_match_df[actor][cast] += 1\n",
    "\n",
    "                \n",
    "def format_film_name(film):\n",
    "    '''Принимает DataFrame с фильмом, возвращает string с названием фильма и IMDB ID'''\n",
    "    return '{} ({})'.format(film.iloc[0]['original_title'], film.iloc[0]['imdb_id'])\n",
    "\n",
    "\n",
    "def group_by_multiple_values_sum(df, group_by, value_row, split_by='|'):\n",
    "    '''Раскладывает множественные значения в ячейке, группирует по этим значениям, \n",
    "    выдает отсортированный по суммам DF'''\n",
    "    cleaned_df = df.set_index(value_row)[group_by].str.split(split_by, expand=True).stack().reset_index(1, drop=True)\n",
    "    grouped_df = cleaned_df.reset_index(name=group_by).groupby(by=group_by).sum()\n",
    "    return grouped_df.sort_values(value_row, ascending=False)\n",
    "\n",
    "\n",
    "def group_by_multiple_values_mean(df, group_by, value_row, split_by='|'):\n",
    "    '''Раскладывает множественные значения в ячейке, группирует по этим значениям, \n",
    "    выдает отсортированный по среднему значению DF'''\n",
    "    cleaned_df = df.set_index(value_row)[group_by].str.split(split_by, expand=True).stack().reset_index(1, drop=True)\n",
    "    grouped_df = cleaned_df.reset_index(name=group_by).groupby(by=group_by).mean()\n",
    "    return grouped_df.sort_values(value_row, ascending=False)"
   ]
  },
  {
   "cell_type": "markdown",
   "metadata": {
    "colab_type": "text",
    "id": "YxZaH-nPVp-L"
   },
   "source": [
    "# 1. У какого фильма из списка самый большой бюджет?"
   ]
  },
  {
   "cell_type": "markdown",
   "metadata": {
    "colab_type": "text",
    "id": "Nd-G5gX6Vp-M"
   },
   "source": [
    "Использовать варианты ответов в коде решения запрещено.    \n",
    "Вы думаете и в жизни у вас будут варианты ответов?)"
   ]
  },
  {
   "cell_type": "code",
   "execution_count": 4,
   "metadata": {
    "pycharm": {
     "name": "#%%\n"
    }
   },
   "outputs": [],
   "source": [
    "answers['1'] = 'Pirates of the Caribbean: On Stranger Tides (tt1298650)'"
   ]
  },
  {
   "cell_type": "code",
   "execution_count": 5,
   "metadata": {
    "colab": {},
    "colab_type": "code",
    "id": "dZwb3m28Vp-S"
   },
   "outputs": [],
   "source": [
    "answer_1 = data.loc[data.budget == data.budget.max(), ['original_title', 'imdb_id']]\n",
    "'{} ({})'.format(answer_1.iloc[0][0], answer_1.iloc[0][1])\n",
    "del answer_1"
   ]
  },
  {
   "cell_type": "markdown",
   "metadata": {
    "colab_type": "text",
    "id": "K7L3nbRXVp-X",
    "pycharm": {
     "name": "#%% md\n"
    }
   },
   "source": [
    "ВАРИАНТ 2"
   ]
  },
  {
   "cell_type": "code",
   "execution_count": 6,
   "metadata": {
    "colab": {},
    "colab_type": "code",
    "id": "OGaoQI7rVp-X",
    "pycharm": {
     "name": "#%%\n"
    }
   },
   "outputs": [
    {
     "data": {
      "text/plain": "'Pirates of the Caribbean: On Stranger Tides (tt1298650)'"
     },
     "execution_count": 6,
     "metadata": {},
     "output_type": "execute_result"
    }
   ],
   "source": [
    "format_film_name(data[data.budget == data.budget.max()])"
   ]
  },
  {
   "cell_type": "markdown",
   "metadata": {
    "colab_type": "text",
    "id": "FNRbbI3vVp-c",
    "pycharm": {
     "name": "#%% md\n"
    }
   },
   "source": [
    "# 2. Какой из фильмов самый длительный (в минутах)?"
   ]
  },
  {
   "cell_type": "code",
   "execution_count": 7,
   "metadata": {
    "pycharm": {
     "name": "#%%\n"
    }
   },
   "outputs": [],
   "source": [
    "answers['2'] = 'Gods and Generals (tt0279111)'"
   ]
  },
  {
   "cell_type": "code",
   "execution_count": 8,
   "metadata": {},
   "outputs": [
    {
     "data": {
      "text/plain": "'Gods and Generals (tt0279111)'"
     },
     "execution_count": 8,
     "metadata": {},
     "output_type": "execute_result"
    }
   ],
   "source": [
    "format_film_name(data[data.runtime == data.runtime.max()])"
   ]
  },
  {
   "cell_type": "markdown",
   "metadata": {
    "colab_type": "text",
    "id": "bapLlpW8Vp-k",
    "pycharm": {
     "name": "#%% md\n"
    }
   },
   "source": [
    "# 3. Какой из фильмов самый короткий (в минутах)?"
   ]
  },
  {
   "cell_type": "code",
   "execution_count": 9,
   "metadata": {
    "pycharm": {
     "name": "#%%\n"
    }
   },
   "outputs": [],
   "source": [
    "answers['3'] = 'Winnie the Pooh (tt1449283)'"
   ]
  },
  {
   "cell_type": "code",
   "execution_count": 10,
   "metadata": {},
   "outputs": [
    {
     "data": {
      "text/plain": "'Winnie the Pooh (tt1449283)'"
     },
     "execution_count": 10,
     "metadata": {},
     "output_type": "execute_result"
    }
   ],
   "source": [
    "format_film_name(data[data.runtime == data.runtime.min()])"
   ]
  },
  {
   "cell_type": "markdown",
   "metadata": {
    "colab_type": "text",
    "id": "TfQbxbfNVp-p"
   },
   "source": [
    "# 4. Какова средняя длительность фильмов?"
   ]
  },
  {
   "cell_type": "code",
   "execution_count": 11,
   "metadata": {
    "pycharm": {
     "name": "#%%\n"
    }
   },
   "outputs": [],
   "source": [
    "answers['4'] = 110"
   ]
  },
  {
   "cell_type": "code",
   "execution_count": 12,
   "metadata": {
    "colab": {},
    "colab_type": "code",
    "id": "5K6dKZYVVp-q"
   },
   "outputs": [
    {
     "data": {
      "text/plain": "110"
     },
     "execution_count": 12,
     "metadata": {},
     "output_type": "execute_result"
    }
   ],
   "source": [
    "int(round(data.runtime.mean(), 0))"
   ]
  },
  {
   "cell_type": "markdown",
   "metadata": {
    "colab_type": "text",
    "id": "r5TvbnT_Vp-u"
   },
   "source": [
    "# 5. Каково медианное значение длительности фильмов?"
   ]
  },
  {
   "cell_type": "code",
   "execution_count": 13,
   "metadata": {
    "pycharm": {
     "name": "#%%\n"
    }
   },
   "outputs": [],
   "source": [
    "answers['5'] = 107"
   ]
  },
  {
   "cell_type": "code",
   "execution_count": 14,
   "metadata": {
    "colab": {},
    "colab_type": "code",
    "id": "iBROplKnVp-v"
   },
   "outputs": [
    {
     "data": {
      "text/plain": "107"
     },
     "execution_count": 14,
     "metadata": {},
     "output_type": "execute_result"
    }
   ],
   "source": [
    "int(round(data.runtime.median(), 0))"
   ]
  },
  {
   "cell_type": "markdown",
   "metadata": {
    "colab_type": "text",
    "id": "39P-deDSVp-y"
   },
   "source": [
    "# 6. Какой самый прибыльный фильм?\n",
    "#### Внимание! Здесь и далее под «прибылью» или «убытками» понимается разность между сборами и бюджетом фильма. (прибыль = сборы - бюджет) в нашем датасете это будет (profit = revenue - budget) "
   ]
  },
  {
   "cell_type": "code",
   "execution_count": 15,
   "metadata": {
    "colab": {},
    "colab_type": "code",
    "id": "UYZh4T9WVp-y"
   },
   "outputs": [],
   "source": [
    "answers['6'] = 'Avatar (tt0499549)'"
   ]
  },
  {
   "cell_type": "code",
   "execution_count": 16,
   "metadata": {},
   "outputs": [
    {
     "data": {
      "text/plain": "'Avatar (tt0499549)'"
     },
     "execution_count": 16,
     "metadata": {},
     "output_type": "execute_result"
    }
   ],
   "source": [
    "format_film_name(data[data.profit == data.profit.max()])"
   ]
  },
  {
   "cell_type": "markdown",
   "metadata": {
    "colab_type": "text",
    "id": "M99JmIX4Vp-2"
   },
   "source": [
    "# 7. Какой фильм самый убыточный?"
   ]
  },
  {
   "cell_type": "code",
   "execution_count": 17,
   "metadata": {
    "pycharm": {
     "name": "#%%\n"
    }
   },
   "outputs": [],
   "source": [
    "answers['7'] = 'The Lone Ranger (tt1210819)'"
   ]
  },
  {
   "cell_type": "code",
   "execution_count": 18,
   "metadata": {
    "colab": {},
    "colab_type": "code",
    "id": "w-D2m4XPVp-3"
   },
   "outputs": [
    {
     "data": {
      "text/plain": "'The Lone Ranger (tt1210819)'"
     },
     "execution_count": 18,
     "metadata": {},
     "output_type": "execute_result"
    }
   ],
   "source": [
    "format_film_name(data[data.profit == data.profit.min()])"
   ]
  },
  {
   "cell_type": "markdown",
   "metadata": {
    "colab_type": "text",
    "id": "wEOM5ERVVp-6"
   },
   "source": [
    "# 8. У скольких фильмов из датасета объем сборов оказался выше бюджета?"
   ]
  },
  {
   "cell_type": "code",
   "execution_count": 19,
   "metadata": {
    "pycharm": {
     "name": "#%%\n"
    }
   },
   "outputs": [],
   "source": [
    "answers['8'] = 1478"
   ]
  },
  {
   "cell_type": "code",
   "execution_count": 20,
   "metadata": {
    "colab": {},
    "colab_type": "code",
    "id": "y00_7HD6Vp-7"
   },
   "outputs": [
    {
     "data": {
      "text/plain": "1478"
     },
     "execution_count": 20,
     "metadata": {},
     "output_type": "execute_result"
    }
   ],
   "source": [
    "data[data.profit > 0].imdb_id.count()"
   ]
  },
  {
   "cell_type": "markdown",
   "metadata": {
    "colab_type": "text",
    "id": "xhpspA9KVp_A"
   },
   "source": [
    "# 9. Какой фильм оказался самым кассовым в 2008 году?"
   ]
  },
  {
   "cell_type": "code",
   "execution_count": 21,
   "metadata": {
    "pycharm": {
     "name": "#%%\n"
    }
   },
   "outputs": [],
   "source": [
    "answers['9'] = 'The Dark Knight (tt0468569)'"
   ]
  },
  {
   "cell_type": "code",
   "execution_count": 22,
   "metadata": {
    "colab": {},
    "colab_type": "code",
    "id": "MoUyQr9RVp_B"
   },
   "outputs": [
    {
     "data": {
      "text/plain": "'The Dark Knight (tt0468569)'"
     },
     "execution_count": 22,
     "metadata": {},
     "output_type": "execute_result"
    }
   ],
   "source": [
    "films_2008 = data[data.release_year == 2008]\n",
    "format_film_name(films_2008[films_2008.revenue == films_2008.revenue.max()])"
   ]
  },
  {
   "cell_type": "markdown",
   "metadata": {},
   "source": [
    "ВАРИАНТ 2"
   ]
  },
  {
   "cell_type": "code",
   "execution_count": 23,
   "metadata": {
    "pycharm": {
     "name": "#%%\n"
    }
   },
   "outputs": [
    {
     "data": {
      "text/plain": "'The Dark Knight (tt0468569)'"
     },
     "execution_count": 23,
     "metadata": {},
     "output_type": "execute_result"
    }
   ],
   "source": [
    "format_film_name(data[data.release_year == 2008].query('revenue == revenue.max()'))"
   ]
  },
  {
   "cell_type": "markdown",
   "metadata": {
    "colab_type": "text",
    "id": "EA7Sa9dkVp_I"
   },
   "source": [
    "# 10. Самый убыточный фильм за период с 2012 по 2014 г. (включительно)?"
   ]
  },
  {
   "cell_type": "code",
   "execution_count": 24,
   "metadata": {
    "pycharm": {
     "name": "#%%\n"
    }
   },
   "outputs": [],
   "source": [
    "answers['10'] = 'The Lone Ranger (tt1210819)'"
   ]
  },
  {
   "cell_type": "code",
   "execution_count": 25,
   "metadata": {
    "colab": {},
    "colab_type": "code",
    "id": "otO3SbrSVp_N"
   },
   "outputs": [
    {
     "data": {
      "text/plain": "'The Lone Ranger (tt1210819)'"
     },
     "execution_count": 25,
     "metadata": {},
     "output_type": "execute_result"
    }
   ],
   "source": [
    "films_2012_2014 = data[(data.release_year >= 2012) & (data.release_year <= 2014)]\n",
    "format_film_name(films_2012_2014[films_2012_2014.profit == films_2012_2014.profit.min()])"
   ]
  },
  {
   "cell_type": "markdown",
   "metadata": {},
   "source": [
    "ВАРИАНТ 2"
   ]
  },
  {
   "cell_type": "code",
   "execution_count": 26,
   "metadata": {},
   "outputs": [
    {
     "data": {
      "text/plain": "'The Lone Ranger (tt1210819)'"
     },
     "execution_count": 26,
     "metadata": {},
     "output_type": "execute_result"
    }
   ],
   "source": [
    "format_film_name(data[(data.release_year >= 2012) & (data.release_year <= 2014)].query('profit == profit.min()'))"
   ]
  },
  {
   "cell_type": "markdown",
   "metadata": {},
   "source": [
    "# 11. Какого жанра фильмов больше всего?"
   ]
  },
  {
   "cell_type": "code",
   "execution_count": 27,
   "metadata": {
    "pycharm": {
     "name": "#%%\n"
    }
   },
   "outputs": [],
   "source": [
    "answers['11'] = 'Drama'"
   ]
  },
  {
   "cell_type": "code",
   "execution_count": 28,
   "metadata": {},
   "outputs": [
    {
     "data": {
      "text/plain": "'Drama'"
     },
     "execution_count": 28,
     "metadata": {},
     "output_type": "execute_result"
    }
   ],
   "source": [
    "pd.Series(data.genres.str.split('|').sum()).value_counts().index[0]"
   ]
  },
  {
   "cell_type": "markdown",
   "metadata": {
    "colab_type": "text",
    "id": "T9_bPWpkVp_Q"
   },
   "source": [
    "# 12. Фильмы какого жанра чаще всего становятся прибыльными? "
   ]
  },
  {
   "cell_type": "code",
   "execution_count": 29,
   "metadata": {
    "pycharm": {
     "name": "#%%\n"
    }
   },
   "outputs": [],
   "source": [
    "answers['12'] = 'Drama'"
   ]
  },
  {
   "cell_type": "code",
   "execution_count": 30,
   "metadata": {
    "colab": {},
    "colab_type": "code",
    "id": "Tmt8MaK1Vp_R"
   },
   "outputs": [
    {
     "data": {
      "text/plain": "'Drama'"
     },
     "execution_count": 30,
     "metadata": {},
     "output_type": "execute_result"
    }
   ],
   "source": [
    "pd.Series(data[data.profit > 0].genres.str.split('|').sum()).value_counts().index[0]"
   ]
  },
  {
   "cell_type": "markdown",
   "metadata": {
    "colab_type": "text",
    "id": "0F23bgsDVp_U"
   },
   "source": [
    "# 13. У какого режиссера самые большие суммарные кассовые сбооры?"
   ]
  },
  {
   "cell_type": "code",
   "execution_count": 31,
   "metadata": {
    "pycharm": {
     "name": "#%%\n"
    }
   },
   "outputs": [],
   "source": [
    "answers['13'] = 'Peter Jackson'"
   ]
  },
  {
   "cell_type": "code",
   "execution_count": 32,
   "metadata": {
    "colab": {},
    "colab_type": "code",
    "id": "K6Z3J8ygVp_X"
   },
   "outputs": [
    {
     "name": "stdout",
     "output_type": "stream",
     "text": [
      "Peter Jackson\n"
     ]
    }
   ],
   "source": [
    "biggest_revenue = 0\n",
    "most_valued_director = ''\n",
    "for director in directors_list:\n",
    "    revenue_sum = data[data.director.str.contains(director)].revenue.sum()\n",
    "    if revenue_sum > biggest_revenue:\n",
    "        biggest_revenue = revenue_sum\n",
    "        most_valued_director = director\n",
    "print(most_valued_director)\n",
    "del biggest_revenue, most_valued_director, director, revenue_sum"
   ]
  },
  {
   "cell_type": "markdown",
   "metadata": {},
   "source": [
    "ВАРИАНТ 2"
   ]
  },
  {
   "cell_type": "code",
   "execution_count": 33,
   "metadata": {
    "pycharm": {
     "name": "#%%\n"
    }
   },
   "outputs": [
    {
     "data": {
      "text/plain": "'Peter Jackson'"
     },
     "execution_count": 33,
     "metadata": {},
     "output_type": "execute_result"
    }
   ],
   "source": [
    "cleaned = data.set_index('revenue').director.str.split('|', expand=True).stack().reset_index(1, drop=True)\n",
    "grouped = cleaned.reset_index(name='director').groupby(by='director').sum()\n",
    "grouped.sort_values('revenue', ascending=False).index[0]"
   ]
  },
  {
   "cell_type": "markdown",
   "metadata": {},
   "source": [
    "ВАРИАНТ 3"
   ]
  },
  {
   "cell_type": "code",
   "execution_count": 34,
   "metadata": {},
   "outputs": [
    {
     "data": {
      "text/plain": "'Peter Jackson'"
     },
     "execution_count": 34,
     "metadata": {},
     "output_type": "execute_result"
    }
   ],
   "source": [
    "group_by_multiple_values_sum(data, 'director', 'revenue').index[0]"
   ]
  },
  {
   "cell_type": "markdown",
   "metadata": {
    "colab_type": "text",
    "id": "PsYC9FgRVp_a"
   },
   "source": [
    "# 14. Какой режисер снял больше всего фильмов в стиле Action?"
   ]
  },
  {
   "cell_type": "code",
   "execution_count": 35,
   "metadata": {
    "pycharm": {
     "name": "#%%\n"
    }
   },
   "outputs": [],
   "source": [
    "answers['14'] = 'Robert Rodriguez'"
   ]
  },
  {
   "cell_type": "code",
   "execution_count": 36,
   "metadata": {},
   "outputs": [
    {
     "data": {
      "text/plain": "'Robert Rodriguez'"
     },
     "execution_count": 36,
     "metadata": {},
     "output_type": "execute_result"
    }
   ],
   "source": [
    "pd.Series(data[data.genres.str.contains('Action')].director.str.split('|').sum()).value_counts().index[0]"
   ]
  },
  {
   "cell_type": "markdown",
   "metadata": {
    "colab_type": "text",
    "id": "PQ0KciD7Vp_f"
   },
   "source": [
    "# 15. Фильмы с каким актером принесли самые высокие кассовые сборы в 2012 году? "
   ]
  },
  {
   "cell_type": "code",
   "execution_count": 37,
   "metadata": {
    "pycharm": {
     "name": "#%%\n"
    }
   },
   "outputs": [],
   "source": [
    "answers['15'] = 'Chris Hemsworth'"
   ]
  },
  {
   "cell_type": "code",
   "execution_count": 38,
   "metadata": {},
   "outputs": [
    {
     "data": {
      "text/plain": "'Chris Hemsworth'"
     },
     "execution_count": 38,
     "metadata": {},
     "output_type": "execute_result"
    }
   ],
   "source": [
    "group_by_multiple_values_sum(data[data.release_year == 2012], 'cast', 'revenue').index[0]"
   ]
  },
  {
   "cell_type": "markdown",
   "metadata": {
    "colab_type": "text",
    "id": "mWHyyL7QVp_j"
   },
   "source": [
    "# 16. Какой актер снялся в большем количестве высокобюджетных фильмов?"
   ]
  },
  {
   "cell_type": "code",
   "execution_count": 39,
   "metadata": {},
   "outputs": [],
   "source": [
    "answers['16'] = 'Matt Damon'"
   ]
  },
  {
   "cell_type": "code",
   "execution_count": 40,
   "metadata": {
    "colab": {},
    "colab_type": "code",
    "id": "qQtmHKTFVp_k"
   },
   "outputs": [
    {
     "data": {
      "text/plain": "'Matt Damon'"
     },
     "execution_count": 40,
     "metadata": {},
     "output_type": "execute_result"
    }
   ],
   "source": [
    "pd.Series(data[data.budget > data.budget.mean()].cast.str.split('|').sum()).value_counts().index[0]"
   ]
  },
  {
   "cell_type": "markdown",
   "metadata": {
    "colab_type": "text",
    "id": "NIh6AaW5Vp_n"
   },
   "source": [
    "# 17. В фильмах какого жанра больше всего снимался Nicolas Cage? "
   ]
  },
  {
   "cell_type": "code",
   "execution_count": 41,
   "metadata": {
    "colab": {},
    "colab_type": "code",
    "id": "H74SJDIBVp_n"
   },
   "outputs": [],
   "source": [
    "answers['17'] = 'Action'"
   ]
  },
  {
   "cell_type": "code",
   "execution_count": 42,
   "metadata": {},
   "outputs": [
    {
     "data": {
      "text/plain": "'Action'"
     },
     "execution_count": 42,
     "metadata": {},
     "output_type": "execute_result"
    }
   ],
   "source": [
    "pd.Series(data[data.cast.str.contains('Nicolas Cage')].genres.str.split('|').sum()).value_counts().index[0]"
   ]
  },
  {
   "cell_type": "markdown",
   "metadata": {
    "colab_type": "text",
    "id": "RqOmPRfWVp_q"
   },
   "source": [
    "# 18. Самый убыточный фильм от Paramount Pictures"
   ]
  },
  {
   "cell_type": "code",
   "execution_count": 43,
   "metadata": {
    "colab": {},
    "colab_type": "code",
    "id": "9E_B0Y96Vp_r"
   },
   "outputs": [],
   "source": [
    "answers['18'] = 'K-19: The Widowmaker (tt0267626)'"
   ]
  },
  {
   "cell_type": "code",
   "execution_count": 44,
   "metadata": {},
   "outputs": [
    {
     "data": {
      "text/plain": "'K-19: The Widowmaker (tt0267626)'"
     },
     "execution_count": 44,
     "metadata": {},
     "output_type": "execute_result"
    }
   ],
   "source": [
    "paramount = data[data.production_companies.str.contains('Paramount Pictures')]\n",
    "format_film_name(paramount[paramount.profit == paramount.profit.min()])"
   ]
  },
  {
   "cell_type": "markdown",
   "metadata": {},
   "source": [
    "ВАРИАНТ 2"
   ]
  },
  {
   "cell_type": "code",
   "execution_count": 45,
   "metadata": {},
   "outputs": [
    {
     "data": {
      "text/plain": "'K-19: The Widowmaker (tt0267626)'"
     },
     "execution_count": 45,
     "metadata": {},
     "output_type": "execute_result"
    }
   ],
   "source": [
    "format_film_name(data.query('production_companies.str.contains(\"Paramount Pictures\")').query('profit == profit.min()'))"
   ]
  },
  {
   "cell_type": "markdown",
   "metadata": {},
   "source": [
    "ВАРИАНТ 3"
   ]
  },
  {
   "cell_type": "code",
   "execution_count": 46,
   "metadata": {},
   "outputs": [
    {
     "data": {
      "text/plain": "'K-19: The Widowmaker (tt0267626)'"
     },
     "execution_count": 46,
     "metadata": {},
     "output_type": "execute_result"
    }
   ],
   "source": [
    "format_film_name(data[data.production_companies.\n",
    "                      map(lambda x: True if 'Paramount Pictures' in x else False)].query('profit == profit.min()'))"
   ]
  },
  {
   "cell_type": "markdown",
   "metadata": {
    "colab_type": "text",
    "id": "vS8Ur6ddVp_u"
   },
   "source": [
    "# 19. Какой год стал самым успешным по суммарным кассовым сборам?"
   ]
  },
  {
   "cell_type": "code",
   "execution_count": 47,
   "metadata": {
    "colab": {},
    "colab_type": "code",
    "id": "Dnbt4GdIVp_v"
   },
   "outputs": [],
   "source": [
    "answers['19'] = '2015'"
   ]
  },
  {
   "cell_type": "code",
   "execution_count": 48,
   "metadata": {},
   "outputs": [
    {
     "data": {
      "text/plain": "2015"
     },
     "execution_count": 48,
     "metadata": {},
     "output_type": "execute_result"
    }
   ],
   "source": [
    "data.groupby(by='release_year').sum().sort_values('revenue', ascending=False).index[0]"
   ]
  },
  {
   "cell_type": "markdown",
   "metadata": {
    "colab_type": "text",
    "id": "JAzJh4QAVp_z"
   },
   "source": [
    "# 20. Какой самый прибыльный год для студии Warner Bros?"
   ]
  },
  {
   "cell_type": "code",
   "execution_count": 49,
   "metadata": {
    "colab": {},
    "colab_type": "code",
    "id": "wgVu02DEVp_0"
   },
   "outputs": [],
   "source": [
    "answers['20'] = '2014'"
   ]
  },
  {
   "cell_type": "code",
   "execution_count": 50,
   "metadata": {},
   "outputs": [
    {
     "data": {
      "text/plain": "2014"
     },
     "execution_count": 50,
     "metadata": {},
     "output_type": "execute_result"
    }
   ],
   "source": [
    "data[data.production_companies.str.contains('Warner Bros')].groupby(\n",
    "    by='release_year').sum().sort_values('profit', ascending=False).index[0]"
   ]
  },
  {
   "cell_type": "markdown",
   "metadata": {
    "colab_type": "text",
    "id": "8Im1S2HRVp_4"
   },
   "source": [
    "# 21. В каком месяце за все годы суммарно вышло больше всего фильмов?"
   ]
  },
  {
   "cell_type": "code",
   "execution_count": 51,
   "metadata": {},
   "outputs": [],
   "source": [
    "answers['21'] = '9'"
   ]
  },
  {
   "cell_type": "code",
   "execution_count": 52,
   "metadata": {
    "colab": {},
    "colab_type": "code",
    "id": "lev6TH7gVp_4"
   },
   "outputs": [
    {
     "data": {
      "text/plain": "9"
     },
     "execution_count": 52,
     "metadata": {},
     "output_type": "execute_result"
    }
   ],
   "source": [
    "data.groupby(by='release_month').imdb_id.count().sort_values(ascending=False).index[0]"
   ]
  },
  {
   "cell_type": "markdown",
   "metadata": {
    "colab_type": "text",
    "id": "uAJsZ_NeVp_7"
   },
   "source": [
    "# 22. Сколько суммарно вышло фильмов летом? (за июнь, июль, август)"
   ]
  },
  {
   "cell_type": "code",
   "execution_count": 53,
   "metadata": {},
   "outputs": [],
   "source": [
    "answers['22'] = '450'"
   ]
  },
  {
   "cell_type": "code",
   "execution_count": 54,
   "metadata": {
    "colab": {},
    "colab_type": "code",
    "id": "Aa-hEREoVp_8"
   },
   "outputs": [
    {
     "data": {
      "text/plain": "450"
     },
     "execution_count": 54,
     "metadata": {},
     "output_type": "execute_result"
    }
   ],
   "source": [
    "data[(data.release_month == 6) | (data.release_month == 7) | (data.release_month == 8)].imdb_id.count()"
   ]
  },
  {
   "cell_type": "markdown",
   "metadata": {
    "colab_type": "text",
    "id": "G94ppOY1VqAA"
   },
   "source": [
    "# 23. Для какого режиссера зима – самое продуктивное время года? "
   ]
  },
  {
   "cell_type": "code",
   "execution_count": 55,
   "metadata": {},
   "outputs": [],
   "source": [
    "answers['23'] = 'Peter Jackson'"
   ]
  },
  {
   "cell_type": "code",
   "execution_count": 56,
   "metadata": {
    "colab": {},
    "colab_type": "code",
    "id": "RhNTsamuVqAB"
   },
   "outputs": [
    {
     "data": {
      "text/plain": "'Peter Jackson'"
     },
     "execution_count": 56,
     "metadata": {},
     "output_type": "execute_result"
    }
   ],
   "source": [
    "pd.Series(data[(data.release_month == 12) | (data.release_month == 1) | (data.release_month == 2)].\n",
    "          director.str.split('|').sum()).value_counts().index[0]"
   ]
  },
  {
   "cell_type": "markdown",
   "metadata": {
    "colab_type": "text",
    "id": "RBo0JVjVVqAF"
   },
   "source": [
    "# 24. Какая студия дает самые длинные названия своим фильмам по количеству символов?"
   ]
  },
  {
   "cell_type": "code",
   "execution_count": 57,
   "metadata": {},
   "outputs": [],
   "source": [
    "answers['24'] = 'Four By Two Productions'"
   ]
  },
  {
   "cell_type": "code",
   "execution_count": 58,
   "metadata": {},
   "outputs": [
    {
     "data": {
      "text/plain": "'Four By Two Productions'"
     },
     "execution_count": 58,
     "metadata": {},
     "output_type": "execute_result"
    }
   ],
   "source": [
    "title_len = data\n",
    "title_len['title_len'] = data.apply(lambda row: len(row['original_title']), axis=1)\n",
    "group_by_multiple_values_mean(title_len, 'production_companies', 'title_len').index[0]"
   ]
  },
  {
   "cell_type": "markdown",
   "metadata": {
    "colab_type": "text",
    "id": "9G0hbvR7VqAK"
   },
   "source": [
    "# 25. Описание фильмов какой студии в среднем самые длинные по количеству слов?"
   ]
  },
  {
   "cell_type": "code",
   "execution_count": 59,
   "metadata": {
    "colab": {},
    "colab_type": "code",
    "id": "Ge2GsLNxVqAK"
   },
   "outputs": [],
   "source": [
    "answers['25'] = 'Midnight Picture Show'"
   ]
  },
  {
   "cell_type": "code",
   "execution_count": 60,
   "metadata": {},
   "outputs": [
    {
     "data": {
      "text/plain": "'Midnight Picture Show'"
     },
     "execution_count": 60,
     "metadata": {},
     "output_type": "execute_result"
    }
   ],
   "source": [
    "overview_word_len = data\n",
    "overview_word_len['overview_word_len'] = data.apply(lambda row: len(row['overview'].split()), axis=1)\n",
    "group_by_multiple_values_mean(overview_word_len, 'production_companies', 'overview_word_len').index[0]"
   ]
  },
  {
   "cell_type": "markdown",
   "metadata": {
    "colab_type": "text",
    "id": "FJ1AFt90VqAP"
   },
   "source": [
    "# 26. Какие фильмы входят в 1 процент лучших по рейтингу? \n",
    "по vote_average"
   ]
  },
  {
   "cell_type": "code",
   "execution_count": 61,
   "metadata": {},
   "outputs": [],
   "source": [
    "answers['26'] = 'Inside Out, The Dark Knight, 12 Years a Slave'"
   ]
  },
  {
   "cell_type": "code",
   "execution_count": 62,
   "metadata": {
    "colab": {},
    "colab_type": "code",
    "id": "8qmJVq4CVqAQ"
   },
   "outputs": [
    {
     "name": "stdout",
     "output_type": "stream",
     "text": [
      "Inside Out, The Dark Knight, 12 Years a Slave\n"
     ]
    }
   ],
   "source": [
    "top_vote_films = list(data.nlargest(int(data.imdb_id.count()/100), 'vote_average').original_title)\n",
    "\n",
    "variants_26 = {0: 'Inside Out, The Dark Knight, 12 Years a Slave',\n",
    "               1: 'BloodRayne, The Adventures of Rocky & Bullwinkle',\n",
    "               2: 'Batman Begins, The Lord of the Rings: The Return of the King, Upside Down',\n",
    "               3: '300, Lucky Number Slevin, Kill Bill: Vol. 1', \n",
    "               4: 'Upside Down, Inside Out, Iron Man'}\n",
    "\n",
    "for key, value in variants_26.items():\n",
    "    if set(value.split(', ')).issubset(set(top_vote_films)):\n",
    "        print(value)"
   ]
  },
  {
   "cell_type": "markdown",
   "metadata": {
    "colab_type": "text",
    "id": "MdXsUXbCVqAV"
   },
   "source": [
    "# 27. Какие актеры чаще всего снимаются в одном фильме вместе?\n"
   ]
  },
  {
   "cell_type": "code",
   "execution_count": 63,
   "metadata": {},
   "outputs": [],
   "source": [
    "answers['27'] = 'Daniel Radcliffe & Rupert Grint'"
   ]
  },
  {
   "cell_type": "code",
   "execution_count": 64,
   "metadata": {
    "scrolled": true
   },
   "outputs": [
    {
     "name": "stdout",
     "output_type": "stream",
     "text": [
      "Emma Watson & Daniel Radcliffe & Rupert Grint\n"
     ]
    }
   ],
   "source": [
    "a = list(cast_match_df[cast_match_df.max() == cast_match_df.max().max()].index)\n",
    "print(' & '.join(a))"
   ]
  },
  {
   "cell_type": "markdown",
   "metadata": {},
   "source": [
    "ВАРИАНТ 2"
   ]
  },
  {
   "cell_type": "code",
   "execution_count": 65,
   "metadata": {},
   "outputs": [
    {
     "name": "stdout",
     "output_type": "stream",
     "text": [
      "Daniel Radcliffe & Rupert Grint\n"
     ]
    }
   ],
   "source": [
    "variants_27 = {0: 'Johnny Depp & Helena Bonham Carter', \n",
    "               1: 'Ben Stiller & Owen Wilson', \n",
    "               2: 'Vin Diesel & Paul Walker',\n",
    "               3: 'Adam Sandler & Kevin James', \n",
    "               4: 'Daniel Radcliffe & Rupert Grint'}\n",
    "\n",
    "match = 0\n",
    "variant = 0\n",
    "for key, value in variants_27.items():\n",
    "    match_value = cast_match_df[value.split(' & ')[0]][value.split(' & ')[1]]\n",
    "    if match < match_value:\n",
    "        match = match_value\n",
    "        variant = key\n",
    "print(variants_27[variant])"
   ]
  },
  {
   "cell_type": "markdown",
   "source": [
    "ВАРИАНТ 3"
   ],
   "metadata": {
    "collapsed": false
   }
  },
  {
   "cell_type": "code",
   "execution_count": 66,
   "outputs": [
    {
     "name": "stdout",
     "output_type": "stream",
     "text": [
      "Daniel Radcliffe & Rupert Grint\n"
     ]
    }
   ],
   "source": [
    "variants_27 = {0: 'Johnny Depp & Helena Bonham Carter',\n",
    "               1: 'Ben Stiller & Owen Wilson',\n",
    "               2: 'Vin Diesel & Paul Walker',\n",
    "               3: 'Adam Sandler & Kevin James',\n",
    "               4: 'Daniel Radcliffe & Rupert Grint'}\n",
    "\n",
    "match = 0\n",
    "variant = 0\n",
    "\n",
    "for key, value in variants_27.items():\n",
    "        match_value = data[data.cast.str.contains(value.split(' & ')[0])].cast.str.contains(value.split(' & ')[1])\n",
    "        c = Counter(match_value)\n",
    "        if match < c[True]:\n",
    "            match = c[True]\n",
    "            variant = key\n",
    "\n",
    "print(variants_27[variant])"
   ],
   "metadata": {
    "collapsed": false,
    "pycharm": {
     "name": "#%%\n"
    }
   }
  },
  {
   "cell_type": "markdown",
   "metadata": {
    "colab_type": "text",
    "id": "U0nONFnGVqAX"
   },
   "source": [
    "# Submission"
   ]
  },
  {
   "cell_type": "code",
   "execution_count": 67,
   "metadata": {
    "colab": {},
    "colab_type": "code",
    "id": "IfcaRO9-VqAX",
    "outputId": "0f132912-32bb-4196-c98c-abfbc4ad5a5f"
   },
   "outputs": [
    {
     "data": {
      "text/plain": "{'1': 'Pirates of the Caribbean: On Stranger Tides (tt1298650)',\n '2': 'Gods and Generals (tt0279111)',\n '3': 'Winnie the Pooh (tt1449283)',\n '4': 110,\n '5': 107,\n '6': 'Avatar (tt0499549)',\n '7': 'The Lone Ranger (tt1210819)',\n '8': 1478,\n '9': 'The Dark Knight (tt0468569)',\n '10': 'The Lone Ranger (tt1210819)',\n '11': 'Drama',\n '12': 'Drama',\n '13': 'Peter Jackson',\n '14': 'Robert Rodriguez',\n '15': 'Chris Hemsworth',\n '16': 'Matt Damon',\n '17': 'Action',\n '18': 'K-19: The Widowmaker (tt0267626)',\n '19': '2015',\n '20': '2014',\n '21': '9',\n '22': '450',\n '23': 'Peter Jackson',\n '24': 'Four By Two Productions',\n '25': 'Midnight Picture Show',\n '26': 'Inside Out, The Dark Knight, 12 Years a Slave',\n '27': 'Daniel Radcliffe & Rupert Grint'}"
     },
     "execution_count": 67,
     "metadata": {},
     "output_type": "execute_result"
    }
   ],
   "source": [
    "# в конце можно посмотреть свои ответы к каждому вопросу\n",
    "answers"
   ]
  },
  {
   "cell_type": "code",
   "execution_count": 68,
   "metadata": {
    "colab": {},
    "colab_type": "code",
    "id": "SiRmHPl8VqAd"
   },
   "outputs": [
    {
     "data": {
      "text/plain": "27"
     },
     "execution_count": 68,
     "metadata": {},
     "output_type": "execute_result"
    }
   ],
   "source": [
    "# и убедиться что ни чего не пропустил)\n",
    "len(answers)"
   ]
  }
 ],
 "metadata": {
  "colab": {
   "name": "Copy of [SF-DST] Movies IMBD v4.1 TEMPLATE.ipynb",
   "provenance": []
  },
  "kernelspec": {
   "display_name": "Python 3",
   "language": "python",
   "name": "python3"
  },
  "language_info": {
   "codemirror_mode": {
    "name": "ipython",
    "version": 3
   },
   "file_extension": ".py",
   "mimetype": "text/x-python",
   "name": "python",
   "nbconvert_exporter": "python",
   "pygments_lexer": "ipython3",
   "version": "3.8.3"
  }
 },
 "nbformat": 4,
 "nbformat_minor": 1
}